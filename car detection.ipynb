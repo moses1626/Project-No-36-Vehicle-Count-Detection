{
 "cells": [
  {
   "cell_type": "code",
   "execution_count": 15,
   "metadata": {},
   "outputs": [],
   "source": [
    "import cv2\n",
    "import numpy as np"
   ]
  },
  {
   "cell_type": "code",
   "execution_count": 16,
   "metadata": {},
   "outputs": [],
   "source": [
    "# Load the video file or capture the video from the camera\n",
    "cap = cv2.VideoCapture(r'E:\\car detection and counting\\video.mp4')\n",
    "\n",
    "# Initialize the vehicle count\n",
    "vehicle_count = 0\n",
    "\n",
    "# Set the position of the counting line\n",
    "line_position = 551\n",
    "\n",
    "# Initialize the position of the last detected vehicle\n",
    "last_vehicle_position = 0\n",
    "\n",
    "# Load the cascade classifier for vehicle detection\n",
    "classifier_path = r\"E:\\car detection and counting\\haarcascade_car.xml\"\n",
    "car_cascade = cv2.CascadeClassifier(classifier_path)\n",
    "\n",
    "while True:\n",
    "    # Read a frame from the video\n",
    "    ret, frame = cap.read()\n",
    "    if not ret:\n",
    "        break\n",
    "    \n",
    "    # Convert the frame to grayscale\n",
    "    gray = cv2.cvtColor(frame, cv2.COLOR_BGR2GRAY)\n",
    "    \n",
    "    # Detect vehicles in the frame\n",
    "    cars = car_cascade.detectMultiScale(gray, scaleFactor=1.1, minNeighbors=5, minSize=(30, 30))\n",
    "    \n",
    "    # Draw the vehicles on the frame for visualization\n",
    "    for (x, y, w, h) in cars:\n",
    "        cv2.rectangle(frame, (x, y), (x+w, y+h), (0, 255, 0), 2)\n",
    "    \n",
    "    # Count the number of vehicles that cross the counting line\n",
    "    for (x, y, w, h) in cars:\n",
    "        centroid_x = x + w // 2\n",
    "        centroid_y = y + h // 2\n",
    "        \n",
    "        # Check if the centroid of the vehicle crosses the counting line\n",
    "        if centroid_y > line_position and last_vehicle_position < line_position:\n",
    "            vehicle_count += 1\n",
    "        \n",
    "        last_vehicle_position = centroid_y\n",
    "    \n",
    "    # Draw the counting line on the frame for visualization\n",
    "    cv2.line(frame, (0, line_position), (frame.shape[1], line_position), (0, 255, 255), 2)\n",
    "    \n",
    "    # Display the frame with the vehicle count\n",
    "    cv2.putText(frame, \"Vehicle count: {}\".format(vehicle_count), (10, 30), cv2.FONT_HERSHEY_SIMPLEX, 1, (0, 0, 255), 2)\n",
    "    cv2.imshow('frame', frame)\n",
    "    \n",
    "    # Exit if 'q' is pressed\n",
    "    if cv2.waitKey(1) & 0xFF == ord('q'):\n",
    "        break\n",
    "\n",
    "# Release the video capture and close all windows\n",
    "cap.release()\n",
    "cv2.destroyAllWindows()"
   ]
  }
 ],
 "metadata": {
  "kernelspec": {
   "display_name": "Python 3",
   "language": "python",
   "name": "python3"
  },
  "language_info": {
   "codemirror_mode": {
    "name": "ipython",
    "version": 3
   },
   "file_extension": ".py",
   "mimetype": "text/x-python",
   "name": "python",
   "nbconvert_exporter": "python",
   "pygments_lexer": "ipython3",
   "version": "3.10.0"
  },
  "orig_nbformat": 4
 },
 "nbformat": 4,
 "nbformat_minor": 2
}
